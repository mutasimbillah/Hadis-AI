{
 "cells": [
  {
   "cell_type": "code",
   "execution_count": 1,
   "metadata": {},
   "outputs": [],
   "source": [
    "# !pip install pandas\n",
    "# !pip install numpy\n",
    "# !pip install nltk\n",
    "# !pip install gensim\n",
    "#\n",
    "# !pip install pyemd\n",
    "# !pip install pot\n",
    "# conda install -c conda-forge pyemd"
   ]
  },
  {
   "cell_type": "code",
   "execution_count": 2,
   "metadata": {},
   "outputs": [],
   "source": [
    "#import nltk\n",
    "#nltk.download('all')\n",
    "#nltk.download('omw-1.4')\n",
    "#nltk.download('stopwords')\n",
    "#nltk.download('punkt')# Download data for tokenizer.\n",
    "#nltk.download('wordnet')"
   ]
  },
  {
   "cell_type": "code",
   "execution_count": 3,
   "metadata": {},
   "outputs": [],
   "source": [
    "import gensim\n",
    "from gensim.models.word2vec import Word2Vec\n",
    "import gensim.downloader as api\n",
    "# Initialize WmdSimilarity.\n",
    "from pyemd import emd\n",
    "from gensim.similarities import WmdSimilarity\n",
    "#NLTK import\n",
    "import nltk\n",
    "from nltk import word_tokenize\n",
    "from nltk.corpus import stopwords\n",
    "from nltk.stem.wordnet import WordNetLemmatizer\n",
    "#\n",
    "stop_words = stopwords.words('english')"
   ]
  },
  {
   "cell_type": "code",
   "execution_count": 4,
   "metadata": {},
   "outputs": [],
   "source": [
    "import json\n",
    "# read file\n",
    "with open('hadis.json', 'r') as myfile:\n",
    "    data=myfile.read()"
   ]
  },
  {
   "cell_type": "code",
   "execution_count": 5,
   "metadata": {},
   "outputs": [
    {
     "name": "stdout",
     "output_type": "stream",
     "text": [
      "{'hadis': 'The Friday prayer in congregation is a necessary duty for every Muslim, with four exceptions, a slave, a woman, a boy, and a sick person.', 'reference': 'Sunan Abi Dawud 1067, Book 2, Hadith 678'}\n"
     ]
    }
   ],
   "source": [
    "data = data[data.find('['):]\n",
    "hadis = json.loads(data)\n",
    "print(hadis[0])\n"
   ]
  },
  {
   "cell_type": "code",
   "execution_count": 6,
   "metadata": {},
   "outputs": [],
   "source": [
    "#reducing \"builds\", \"building\", or \"built\" to the lemma \"build\n",
    "def lematize_list(words):\n",
    "    n = len(words)\n",
    "    for i in range(n):\n",
    "       w=words[i]\n",
    "       words[i] = WordNetLemmatizer().lemmatize(w,'v')\n",
    "       #print( words[i])\n",
    "    \n",
    "    return words"
   ]
  },
  {
   "cell_type": "code",
   "execution_count": 7,
   "metadata": {},
   "outputs": [],
   "source": [
    "def preprocess(doc):\n",
    "    doc = doc.lower()  # Lower the text.\n",
    "    doc = word_tokenize(doc)  # Split into words.\n",
    "    doc = [w for w in doc if not w in stop_words]  # Remove stopwords.\n",
    "    doc = [w for w in doc if w.isalpha()]  # Remove numbers and punctuation.\n",
    "    return doc"
   ]
  },
  {
   "cell_type": "code",
   "execution_count": 8,
   "metadata": {},
   "outputs": [],
   "source": [
    "wmd_corpus = []\n",
    "for i in range(len(hadis)):\n",
    "  #print(hadis[i]['hadis'])\n",
    "  text = preprocess(hadis[i]['hadis'])\n",
    "  wmd_corpus.append(text)\n"
   ]
  },
  {
   "cell_type": "code",
   "execution_count": 9,
   "metadata": {},
   "outputs": [
    {
     "name": "stdout",
     "output_type": "stream",
     "text": [
      "[['friday', 'prayer', 'congregation', 'necessary', 'duty', 'every', 'muslim', 'four', 'exceptions', 'slave', 'woman', 'boy', 'sick', 'person'], ['mankind', 'fear', 'lord', 'created', 'one', 'soul', 'created', 'mate', 'dispersed', 'many', 'men', 'women'], ['give', 'women', 'upon', 'marriage', 'bridal', 'gifts', 'graciously'], ['believed', 'lawful', 'inherit', 'women', 'compulsion'], ['make', 'difficulties', 'order', 'take', 'back', 'part', 'gave', 'unless', 'commit', 'clear', 'immorality'], ['harmful', 'shall', 'avoid', 'sexual', 'intercourse', 'women', 'menstruation', 'approach', 'rid', 'rid', 'may', 'intercourse', 'manner', 'designed', 'god', 'god', 'loves', 'repenters', 'loves', 'clean'], ['women', 'bearers', 'seed', 'thus', 'may', 'enjoy', 'privilege', 'however', 'like', 'long', 'maintain', 'righteousness', 'shall', 'observe', 'god', 'know', 'meet', 'give', 'good', 'news', 'believers'], ['anyone', 'attending', 'friday', 'prayers', 'take', 'bath'], ['taking', 'bath', 'friday', 'compulsory', 'every', 'male', 'muslim', 'attained', 'age', 'puberty'], ['saw', 'jabir', 'bin', 'abdullah', 'praying', 'single', 'garment', 'said', 'seen', 'prophet', 'praying', 'single', 'garment'], ['prophet', 'prayed', 'one', 'garment', 'crossed', 'ends'], ['saw', 'prophet', 'offering', 'prayers', 'single', 'garment', 'house', 'crossed', 'ends', 'around', 'shoulders'], ['prophet', 'said', 'stand', 'prayer', 'intend', 'prolong', 'hearing', 'cries', 'child', 'cut', 'short', 'dislike', 'trouble', 'child', 'mother'], ['one', 'women', 'wants', 'go', 'masjid', 'go', 'near', 'perfume'], ['commanded', 'us', 'women', 'bring', 'menstruating', 'women', 'virgins', 'eid', 'prayers', 'friday', 'prayer', 'obligatory', 'us', 'women'], ['believing', 'women', 'used', 'perform', 'subh', 'prayer', 'prophet', 'would', 'go', 'back', 'families', 'one', 'would', 'recognize'], ['allah', 'messenger', 'known', 'women', 'would', 'forbidden', 'going', 'mosque', 'women', 'bani', 'israel', 'forbidden']]\n"
     ]
    }
   ],
   "source": [
    "#print(wmd_corpus)"
   ]
  },
  {
   "cell_type": "code",
   "execution_count": 10,
   "metadata": {},
   "outputs": [],
   "source": [
    "model = api.load('word2vec-google-news-300')"
   ]
  },
  {
   "cell_type": "code",
   "execution_count": 19,
   "metadata": {},
   "outputs": [],
   "source": [
    "# Train Word2Vec on all the restaurants.\n",
    "#model = Word2Vec(w2v_corpus, workers=3, size=100)\n",
    "#\n",
    "# Initialize WmdSimilarity.\n",
    "num_best = 2\n",
    "instance = WmdSimilarity(wmd_corpus, model, num_best=2)\n",
    "instance.save('web-file')\n",
    "#instance = WmdSimilarity.load('web-file')"
   ]
  },
  {
   "cell_type": "code",
   "execution_count": 20,
   "metadata": {},
   "outputs": [
    {
     "name": "stdout",
     "output_type": "stream",
     "text": [
      "['friday', 'prayer', 'mandatory', 'women', 'sick', 'person']\n",
      "[(14, 0.5482009334086462), (0, 0.5441528038575363)]\n"
     ]
    }
   ],
   "source": [
    "from pyemd import emd\n",
    "sent = 'is Friday prayer mandatory for women and sick person ?'\n",
    "\n",
    "query = preprocess(sent)\n",
    "print (query)\n",
    "sims = instance[query]\n",
    "print(sims)"
   ]
  },
  {
   "cell_type": "code",
   "execution_count": 21,
   "metadata": {},
   "outputs": [
    {
     "name": "stdout",
     "output_type": "stream",
     "text": [
      "\n",
      "Query :  is Friday prayer mandatory for women and sick person ?\n",
      "\n",
      "He commanded us (women) to bring out the menstruating women and the virgins for both the Eid prayers, and that the Friday prayer is not obligatory on us (women)\n",
      "Reference :  Sunan Abi Dawud 1139, Book 2, Hadith 750\n",
      "\n",
      "The Friday prayer in congregation is a necessary duty for every Muslim, with four exceptions, a slave, a woman, a boy, and a sick person.\n",
      "Reference :  Sunan Abi Dawud 1067, Book 2, Hadith 678\n",
      "\n"
     ]
    }
   ],
   "source": [
    "# Print the query and the retrieved documents, together with their similarities.\n",
    "print()\n",
    "print ('Query : ',sent)\n",
    "print()\n",
    "for i in range(2):\n",
    "    #print ( \"Similarity = \" , ( sims[i][1] ) )\n",
    "    print (hadis[sims[i][0]]['hadis'])\n",
    "    print (\"Reference : \", hadis[sims[i][0]]['reference'])\n",
    "    print()"
   ]
  },
  {
   "cell_type": "code",
   "execution_count": null,
   "metadata": {},
   "outputs": [],
   "source": []
  }
 ],
 "metadata": {
  "kernelspec": {
   "display_name": "Python 3 (ipykernel)",
   "language": "python",
   "name": "python3"
  },
  "language_info": {
   "codemirror_mode": {
    "name": "ipython",
    "version": 3
   },
   "file_extension": ".py",
   "mimetype": "text/x-python",
   "name": "python",
   "nbconvert_exporter": "python",
   "pygments_lexer": "ipython3",
   "version": "3.9.12"
  }
 },
 "nbformat": 4,
 "nbformat_minor": 2
}
